{
 "cells": [
  {
   "cell_type": "code",
   "execution_count": 1,
   "metadata": {
    "collapsed": false
   },
   "outputs": [
    {
     "data": {
      "application/javascript": [
       "IPython.load_extensions('ipykee')"
      ],
      "text/plain": [
       "<IPython.core.display.Javascript object>"
      ]
     },
     "metadata": {},
     "output_type": "display_data"
    }
   ],
   "source": [
    "%%javascript\n",
    "IPython.load_extensions('ipykee')"
   ]
  },
  {
   "cell_type": "code",
   "execution_count": 4,
   "metadata": {
    "collapsed": false
   },
   "outputs": [
    {
     "name": "stdout",
     "output_type": "stream",
     "text": [
      "Please don't forget to add this ssh key:\n",
      "ssh-rsa AAAAB3NzaC1yc2EAAAADAQABAAABAQC2vVlxGMUzpVVuC5OEFrepmz0SjD6WNbAucif4cMryk7nxaUEEXi6GmJgwckHonyj5lyJ99rt2cKTStV4IUZybRKCPOZjCZWBExAXd06VQiy1ydRebLVu+O4qcUEja/+bkQ0f8Vv+JgC8bRtszU98zXx4G2x69GxUkQ9tv7LWGDhQ7IdvkmYeNrwyLkCx0ldpWkQSGUhPyTBZhskLtYz2e2/6bbgib2nIlGwkXYrV0P3IajW6mx49n3AzPkuEx+b6KW2WPURiohtbvyHjlZTJrnjU7bJszKC6WE02hKOWOILMCiC//Hqh+3murFFYIIJY4a1F1eDErXqcNKt2fwwTT root@ed4ccb38a077\n",
      "\n",
      "Please, save your notebook before commit!\n"
     ]
    }
   ],
   "source": [
    "import ipykee\n",
    "ipykee.create_project_if_not_exist(\"Test\", repository=\"git@github.com:Mikari/ipykee-test.git\", internal_path=\"ipykee\")\n",
    "session = ipykee.Session(notebook=\"test\", project_name=\"Test\", docker_image=\"anaderi/rep-develop:latest\")\n"
   ]
  },
  {
   "cell_type": "code",
   "execution_count": 5,
   "metadata": {
    "collapsed": false
   },
   "outputs": [
    {
     "name": "stdout",
     "output_type": "stream",
     "text": [
      "123\n"
     ]
    }
   ],
   "source": [
    "print \"123\""
   ]
  },
  {
   "cell_type": "code",
   "execution_count": 6,
   "metadata": {
    "collapsed": false
   },
   "outputs": [
    {
     "name": "stdout",
     "output_type": "stream",
     "text": [
      "654\n"
     ]
    }
   ],
   "source": [
    "print \"654\""
   ]
  },
  {
   "cell_type": "code",
   "execution_count": null,
   "metadata": {
    "collapsed": true
   },
   "outputs": [],
   "source": []
  }
 ],
 "metadata": {
  "kernelspec": {
   "display_name": "Python 2",
   "language": "python",
   "name": "python2"
  },
  "language_info": {
   "codemirror_mode": {
    "name": "ipython",
    "version": 2
   },
   "file_extension": ".py",
   "mimetype": "text/x-python",
   "name": "python",
   "nbconvert_exporter": "python",
   "pygments_lexer": "ipython2",
   "version": "2.7.6"
  }
 },
 "nbformat": 4,
 "nbformat_minor": 0
}
